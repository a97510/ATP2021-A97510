{
 "cells": [
  {
   "cell_type": "markdown",
   "id": "8ff1f696",
   "metadata": {},
   "source": [
    "## Manifesto TPC2"
   ]
  },
  {
   "cell_type": "markdown",
   "id": "67bbe2db",
   "metadata": {},
   "source": [
    "__KEY NAME:__ TPC2"
   ]
  },
  {
   "cell_type": "markdown",
   "id": "550829b4",
   "metadata": {},
   "source": [
    "__TITLE:__ Jogo para adivinhar o número pensado por alguém"
   ]
  },
  {
   "cell_type": "markdown",
   "id": "9137d83b",
   "metadata": {},
   "source": [
    "__SUBTITLE:__ Manifesto inserido nos trabalhos práticos da unidade curricular de Algoritmos e Técnicas de Programação do curso de MIEBIOM "
   ]
  },
  {
   "cell_type": "markdown",
   "id": "697a5561",
   "metadata": {},
   "source": [
    "__BEGIN DATE:__ 2021-10-13"
   ]
  },
  {
   "cell_type": "markdown",
   "id": "c14e92eb",
   "metadata": {},
   "source": [
    "__END DATE:__ 2021-10-16"
   ]
  },
  {
   "cell_type": "markdown",
   "id": "aab3aa92",
   "metadata": {},
   "source": [
    "__WorkTeam:__ Maria Clara Lopes Xavier Guimarães"
   ]
  },
  {
   "cell_type": "markdown",
   "id": "29356b92",
   "metadata": {},
   "source": [
    "__ABSTRACT:__ \n",
    "\n",
    "O jogo criado permite que o jogador escolha um número entre 0 e 100 e que o computador o consiga adivinhar num máximo de sete tentativas.\n",
    "\n",
    "O trabalho realizado permite a aplicação do que foi lecionado na aula teórica através de um método de procura eficiente que maximiza as probabilidades de encontra do número em menos palpites. \n",
    "\n",
    "O trabalho consiste em atribuir duas variáveis a uma função que correspondem ao limite superior e inferior da mesma. Estes valores vão sendo alterados consoante as respostas dadas pelo jogador de modo a incurtar a janela de números que o jogador poderia ter escolhido.\n",
    "\n",
    "A utilização de uma variável que permite fazer a divisão inteira da janela de números que o jogador poderia ter escolhido por dois permite que o computador consiga obter o número do jogador num máximo de 7 jogadas.\n",
    "\n",
    "A utilização de um ciclo while permite que o computador repita o processo de procura até encontrar o número do jogador.\n",
    "\n",
    "Fica neste trabalho a aplicação do que foi lecionado até este momento nesta unidade curricular."
   ]
  }
 ],
 "metadata": {
  "kernelspec": {
   "display_name": "Python 3",
   "language": "python",
   "name": "python3"
  },
  "language_info": {
   "codemirror_mode": {
    "name": "ipython",
    "version": 3
   },
   "file_extension": ".py",
   "mimetype": "text/x-python",
   "name": "python",
   "nbconvert_exporter": "python",
   "pygments_lexer": "ipython3",
   "version": "3.8.8"
  }
 },
 "nbformat": 4,
 "nbformat_minor": 5
}
