{
 "cells": [
  {
   "cell_type": "markdown",
   "id": "324bc888",
   "metadata": {},
   "source": [
    "## Manifesto TPC8"
   ]
  },
  {
   "cell_type": "markdown",
   "id": "cc92b03e",
   "metadata": {},
   "source": [
    "__KEY NAME__: TPC8"
   ]
  },
  {
   "cell_type": "markdown",
   "id": "c3ade238",
   "metadata": {},
   "source": [
    "__TITLE__: Programa para trabalhar com uma base de dados e que permite a criação de uma janela para a visualização da mesma"
   ]
  },
  {
   "cell_type": "markdown",
   "id": "1c7ffe4b",
   "metadata": {},
   "source": [
    "__SUBTITLE__: Manifesto inserido nos trabalhos práticos da unidade curricular de Algoritmos e Técnicas de Programação do curso de MIEBIOM"
   ]
  },
  {
   "cell_type": "markdown",
   "id": "65e68030",
   "metadata": {},
   "source": [
    "__BEGIN DATE__: 2021-12-04"
   ]
  },
  {
   "cell_type": "markdown",
   "id": "fc7c38f4",
   "metadata": {},
   "source": [
    "__END DATE__: 2021-12-05"
   ]
  },
  {
   "cell_type": "markdown",
   "id": "bfaffbad",
   "metadata": {},
   "source": [
    "__SUPERVISOR__: José Carlos Ramalho, www.di.uminho.pt/~jcr/"
   ]
  },
  {
   "cell_type": "markdown",
   "id": "f0d57bf4",
   "metadata": {},
   "source": [
    "__WorkTeam__: Maria Clara Lopes Xavier Guimarães"
   ]
  },
  {
   "cell_type": "markdown",
   "id": "8729f676",
   "metadata": {},
   "source": [
    "__ABSTRACT__:\n",
    "\n",
    "O programa criado permite que o utilizador realize uma série de operações com uma base de dados que foi fornecida pelo Sr. Professor. As funções necessárias para trabalhar com a base de dados foram maioritariamente realizadas na aula TP. O trabalho de casa consistiu assim na realização de uma janela que permite a visualização das funções realizadas.\n",
    "\n",
    "O trabalho realizado permite a aplicação do que foi lecionado na aula teórica através do uso das funções realizadas na aula e da criação de novas funções que complementam as anteriores, nomeadamente as realizadas para a visualização dos gráficos das várias distribuições.\n",
    "\n",
    "O trabalho consiste na criação de funções que permitem a realização de operações como o carregamento e a visualização da base de dados; a distribuição dos alunos por ano, clube e modalidade; bem como a representação num gráfico de barras destas distribuições.\n",
    "\n",
    "Foram utilizados os módulos io, que possibilita a abertura do ficheiro \"alunos.csv\" e matplotlib.py, que possibilita a visualização gráfica de algumas das funções criadas.\n",
    "\n",
    "A utilização da função distribPorModalidade(bd) permite a contagem do número de alunos que se encontram em cada modalidade. Esta função é posteriormente utilizada na função plotdistribPorModalidade(bd) para que seja possível a visualização num gráfico de barras do número de alunos que se encontra em cada modalidade. O mesmo é feito para as distribuições dos alunos por ano e por clube.\n",
    "\n",
    "Estas funções foram implementadas na criação de um janela através de botões.\n",
    "\n",
    "Fica neste trabalho a aplicação do que foi lecionado até este momento nesta unidade curricular."
   ]
  }
 ],
 "metadata": {
  "kernelspec": {
   "display_name": "Python 3",
   "language": "python",
   "name": "python3"
  },
  "language_info": {
   "codemirror_mode": {
    "name": "ipython",
    "version": 3
   },
   "file_extension": ".py",
   "mimetype": "text/x-python",
   "name": "python",
   "nbconvert_exporter": "python",
   "pygments_lexer": "ipython3",
   "version": "3.8.8"
  }
 },
 "nbformat": 4,
 "nbformat_minor": 5
}
