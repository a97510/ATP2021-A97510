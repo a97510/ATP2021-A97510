{
 "cells": [
  {
   "cell_type": "code",
   "execution_count": 1,
   "id": "cb2aef7b",
   "metadata": {},
   "outputs": [
    {
     "name": "stdout",
     "output_type": "stream",
     "text": [
      "O número 50 é superior, inferior ou igual ao seu número? [+/-/=]-\n",
      "O número 24 é superior, inferior ou igual ao seu número? [+/-/=]+\n",
      "O número 37 é superior, inferior ou igual ao seu número? [+/-/=]-\n",
      "O número 30 é superior, inferior ou igual ao seu número? [+/-/=]+\n",
      "O número 33 é superior, inferior ou igual ao seu número? [+/-/=]-\n",
      "O número 31 é superior, inferior ou igual ao seu número? [+/-/=]+\n",
      "O número 32 é superior, inferior ou igual ao seu número? [+/-/=]=\n",
      "Encontrei o seu número.\n"
     ]
    }
   ],
   "source": [
    "inferior = 0\n",
    "superior = 100\n",
    "def adivinha(inferior, superior):\n",
    "    encontrado = False\n",
    "    while not encontrado == True:\n",
    "        a = superior - inferior\n",
    "        b = a // 2\n",
    "        c = inferior + b\n",
    "        i = input(f\"O número {c} é superior, inferior ou igual ao seu número? [+/-/=]\")\n",
    "        while i not in \"+-=\":\n",
    "            i = input(f\"O número {c} é superior, inferior ou igual ao seu número? [+/-/=]\")\n",
    "        if i == \"=\":\n",
    "            print (\"Encontrei o seu número.\")\n",
    "            encontrado = True\n",
    "        elif i == \"-\":\n",
    "            superior = c - 1\n",
    "        else:\n",
    "            inferior = c + 1\n",
    "adivinha(inferior, superior)\n"
   ]
  },
  {
   "cell_type": "code",
   "execution_count": null,
   "id": "bbc6af14",
   "metadata": {},
   "outputs": [],
   "source": []
  }
 ],
 "metadata": {
  "kernelspec": {
   "display_name": "Python 3",
   "language": "python",
   "name": "python3"
  },
  "language_info": {
   "codemirror_mode": {
    "name": "ipython",
    "version": 3
   },
   "file_extension": ".py",
   "mimetype": "text/x-python",
   "name": "python",
   "nbconvert_exporter": "python",
   "pygments_lexer": "ipython3",
   "version": "3.8.8"
  }
 },
 "nbformat": 4,
 "nbformat_minor": 5
}
