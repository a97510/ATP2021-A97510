{
 "cells": [
  {
   "cell_type": "markdown",
   "id": "a65cea41",
   "metadata": {},
   "source": [
    "## Manifesto TPC5"
   ]
  },
  {
   "cell_type": "markdown",
   "id": "ac8149f8",
   "metadata": {},
   "source": [
    "__KEY NAME__: TPC5"
   ]
  },
  {
   "cell_type": "markdown",
   "id": "4130ebbc",
   "metadata": {},
   "source": [
    "__TITLE__: Programa para trabalhar com polinómios"
   ]
  },
  {
   "cell_type": "markdown",
   "id": "b4115b87",
   "metadata": {},
   "source": [
    "__SUBTITLE__: Manifesto inserido nos trabalhos práticos da unidade curricular de Algoritmos e Técnicas de Programação do curso de MIEBIOM"
   ]
  },
  {
   "cell_type": "markdown",
   "id": "448b6f22",
   "metadata": {},
   "source": [
    "__BEGIN DATE__: 2021-11-08"
   ]
  },
  {
   "cell_type": "markdown",
   "id": "7d5de23b",
   "metadata": {},
   "source": [
    "__END DATE__: 2021-11-11"
   ]
  },
  {
   "cell_type": "markdown",
   "id": "e87a7cd0",
   "metadata": {},
   "source": [
    "__WorkTeam__: Maria Clara Lopes Xavier Guimarães"
   ]
  },
  {
   "cell_type": "markdown",
   "id": "41910571",
   "metadata": {},
   "source": [
    "__ABSTRACT__:\n",
    "\n",
    "O programa criado permite que o utilizador realize uma série de operações com polinómios.\n",
    "\n",
    "O trabalho realizado permite a aplicação do que foi lecionado na aula teórica através do uso das funções realizadas na aula e da criação de novas funções que complementam as anteriores.\n",
    "\n",
    "O trabalho consiste na criação de funções que permitem a realização de operações como a criação de um polinómio; calcular o polinómio; calcular uma tabela com um certo número de linhas indicadas pelo utilizador; simplificar um polinómio e derivar um polinómio.\n",
    "\n",
    "A utilização da função simplificarPol(p) permite a criação de uma lista que representa o polinómio original mas simplificado. Nesta função, por cada tuplo que representa um termo e um certo coeficiente do polinómio, o polinómio é percorrido de modo a somar os termos que têm o mesmo coeficiente. No final da soma ser realizada, introduz-se numa lista o tuplo que representa a soma dos termos com o mesmo coeficiente. Isto repete-se para diferentes coeficientes até que todos os coeficientes estejam na lista criada.\n",
    "\n",
    "Fica neste trabalho a aplicação do que foi lecionado até este momento nesta unidade curricular."
   ]
  }
 ],
 "metadata": {
  "kernelspec": {
   "display_name": "Python 3",
   "language": "python",
   "name": "python3"
  },
  "language_info": {
   "codemirror_mode": {
    "name": "ipython",
    "version": 3
   },
   "file_extension": ".py",
   "mimetype": "text/x-python",
   "name": "python",
   "nbconvert_exporter": "python",
   "pygments_lexer": "ipython3",
   "version": "3.8.8"
  }
 },
 "nbformat": 4,
 "nbformat_minor": 5
}
