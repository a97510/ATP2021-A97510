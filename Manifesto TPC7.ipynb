{
 "cells": [
  {
   "cell_type": "markdown",
   "id": "c171b4c0",
   "metadata": {},
   "source": [
    "## Manifesto TPC7"
   ]
  },
  {
   "cell_type": "markdown",
   "id": "cca757b1",
   "metadata": {},
   "source": [
    "__KEY NAME__: TPC7"
   ]
  },
  {
   "cell_type": "markdown",
   "id": "3da65c8e",
   "metadata": {},
   "source": [
    "__TITLE__: Programa para trabalhar com uma base de dados"
   ]
  },
  {
   "cell_type": "markdown",
   "id": "a4ecc870",
   "metadata": {},
   "source": [
    "__SUBTITLE__: Manifesto inserido nos trabalhos práticos da unidade curricular de Algoritmos e Técnicas de Programação do curso de MIEBIOM"
   ]
  },
  {
   "cell_type": "markdown",
   "id": "d8760e11",
   "metadata": {},
   "source": [
    "__BEGIN DATE__: 2021-11-27"
   ]
  },
  {
   "cell_type": "markdown",
   "id": "4116fe60",
   "metadata": {},
   "source": [
    "__END DATE__: 2021-11-28"
   ]
  },
  {
   "cell_type": "markdown",
   "id": "67a03c5e",
   "metadata": {},
   "source": [
    "__WorkTeam__: Maria Clara Lopes Xavier Guimarães"
   ]
  },
  {
   "cell_type": "markdown",
   "id": "96e7970c",
   "metadata": {},
   "source": [
    "__ABSTRACT__:\n",
    "\n",
    "O programa criado permite que o utilizador realize uma série de operações com uma base de dados que foi fornecida pelo Sr. Professor.\n",
    "\n",
    "O trabalho realizado permite a aplicação do que foi lecionado na aula teórica através do uso das funções realizadas na aula e da criação de novas funções que complementam as anteriores.\n",
    "\n",
    "O trabalho consiste na criação de funções que permitem a realização de operações como a visualização da base de dados; a procura de certo aluno na base de dados a partir do id do aluno; a visualização dos 10 melhores alunos; a distribuição dos alunos por curso e por médias; bem como a representação num gráfico de barras destas distribuições.\n",
    "\n",
    "Foram utilizados os módulos io, que possibilita a abertura do ficheiro \"alunos.csv\" e matplotlib.py, que possibilita a visualização gráfica de algumas das funções criadas.\n",
    "\n",
    "A utilização da função distribuirPorcurso(bd) permite a contagem do número de alunos que se encontram em cada curso. Esta função é posteriormente utilizada na função graficoDistribuirPorCurso(bd) para que seja possível a visualização num gráfico de barras do número de alunos que se encontra em cada curso.\n",
    "\n",
    "Fica neste trabalho a aplicação do que foi lecionado até este momento nesta unidade curricular."
   ]
  }
 ],
 "metadata": {
  "kernelspec": {
   "display_name": "Python 3",
   "language": "python",
   "name": "python3"
  },
  "language_info": {
   "codemirror_mode": {
    "name": "ipython",
    "version": 3
   },
   "file_extension": ".py",
   "mimetype": "text/x-python",
   "name": "python",
   "nbconvert_exporter": "python",
   "pygments_lexer": "ipython3",
   "version": "3.8.8"
  }
 },
 "nbformat": 4,
 "nbformat_minor": 5
}
