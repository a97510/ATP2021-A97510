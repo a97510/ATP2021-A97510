{
 "cells": [
  {
   "cell_type": "markdown",
   "id": "4ec345e2",
   "metadata": {},
   "source": [
    "## Manifesto TPC6"
   ]
  },
  {
   "cell_type": "markdown",
   "id": "549d08a3",
   "metadata": {},
   "source": [
    "__KEY NAME__: TPC6"
   ]
  },
  {
   "cell_type": "markdown",
   "id": "8ac06d05",
   "metadata": {},
   "source": [
    "__TITLE__: Programa para trabalhar com polinómios e visualização gráfica dos mesmos"
   ]
  },
  {
   "cell_type": "markdown",
   "id": "4cfef81c",
   "metadata": {},
   "source": [
    "__SUBTITLE__: Manifesto inserido nos trabalhos práticos da unidade curricular de Algoritmos e Técnicas de Programação do curso de MIEBIOM"
   ]
  },
  {
   "cell_type": "markdown",
   "id": "0f75aa2a",
   "metadata": {},
   "source": [
    "__BEGIN DATE__: 2021-11-17"
   ]
  },
  {
   "cell_type": "markdown",
   "id": "2149135c",
   "metadata": {},
   "source": [
    "__END DATE__: 2021-11-19"
   ]
  },
  {
   "cell_type": "markdown",
   "id": "7fb0cd08",
   "metadata": {},
   "source": [
    "__WorkTeam__: Maria Clara Lopes Xavier Guimarães"
   ]
  },
  {
   "cell_type": "markdown",
   "id": "1bd469b8",
   "metadata": {},
   "source": [
    "__ABSTRACT__:\n",
    "\n",
    "O programa criado permite que o utilizador realize uma série de operações com polinómios e de seguida os consiga visualizar.\n",
    "\n",
    "O trabalho realizado permite a aplicação do que foi lecionado na aula teórica através do uso das funções realizadas na aula e da aplicação das mesmas ao TPC realizado anteriormente sobre polinómios. O trabalho consiste na criação de funções que permitem a visualização dos polinómios.\n",
    "\n",
    "A utilização do matplotlib.pyplot permite a criação e visualização dos gráficos. Foram também criados os eixos coordenados a partir das funções importadas para o Spyder. As funções relacionadas com polinómios foram as realizadas no TPC anterior.\n",
    "\n",
    "Fica neste trabalho a aplicação do que foi lecionado até este momento nesta unidade curricular."
   ]
  }
 ],
 "metadata": {
  "kernelspec": {
   "display_name": "Python 3",
   "language": "python",
   "name": "python3"
  },
  "language_info": {
   "codemirror_mode": {
    "name": "ipython",
    "version": 3
   },
   "file_extension": ".py",
   "mimetype": "text/x-python",
   "name": "python",
   "nbconvert_exporter": "python",
   "pygments_lexer": "ipython3",
   "version": "3.8.8"
  }
 },
 "nbformat": 4,
 "nbformat_minor": 5
}
