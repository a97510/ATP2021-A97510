{
 "cells": [
  {
   "cell_type": "markdown",
   "id": "cb311c3c",
   "metadata": {},
   "source": [
    "## TPC3"
   ]
  },
  {
   "cell_type": "code",
   "execution_count": null,
   "id": "e6b0b107",
   "metadata": {},
   "outputs": [
    {
     "name": "stdout",
     "output_type": "stream",
     "text": [
      "Quantos valores deseja ordenar?6\n",
      "Qual é o 1º número?6\n",
      "Qual é o 2º número?5\n",
      "Qual é o 3º número?4\n",
      "Qual é o 4º número?3\n",
      "Qual é o 5º número?7\n",
      "Qual é o 6º número?2\n",
      "[5, 6, 4, 3, 7, 2]\n",
      "[5, 4, 6, 3, 7, 2]\n",
      "[5, 4, 3, 6, 7, 2]\n",
      "[5, 4, 3, 6, 2, 7]\n",
      "[4, 5, 3, 6, 2, 7]\n",
      "[4, 3, 5, 6, 2, 7]\n",
      "[4, 3, 5, 2, 6, 7]\n",
      "[3, 4, 5, 2, 6, 7]\n",
      "[3, 4, 2, 5, 6, 7]\n",
      "[3, 2, 4, 5, 6, 7]\n",
      "[2, 3, 4, 5, 6, 7]\n"
     ]
    }
   ],
   "source": [
    "l = []\n",
    "a = int(input(\"Quantos valores deseja ordenar?\"))\n",
    "i = 1\n",
    "while a <= 0:\n",
    "    a = int(input(\"Quantos valores deseja ordenar?\"))\n",
    "while i < (a+1) :\n",
    "    b = int(input(f\"Qual é o {i}º número?\"))\n",
    "    l.append(b)\n",
    "    i = i+1\n",
    "\n",
    "def bubble(l):\n",
    "    b = True\n",
    "    while b == True:\n",
    "        for j in range(len(l)-1):\n",
    "            troca = 0\n",
    "            if l [j] > l [j+1]:\n",
    "                menor = l [j+1]\n",
    "                maior = l [j]\n",
    "                l [j] = menor\n",
    "                l [j+1] = maior\n",
    "                j = j+1\n",
    "                troca = troca+1\n",
    "                print (l)\n",
    "\n",
    "\n",
    "bubble(l)"
   ]
  }
 ],
 "metadata": {
  "kernelspec": {
   "display_name": "Python 3",
   "language": "python",
   "name": "python3"
  },
  "language_info": {
   "codemirror_mode": {
    "name": "ipython",
    "version": 3
   },
   "file_extension": ".py",
   "mimetype": "text/x-python",
   "name": "python",
   "nbconvert_exporter": "python",
   "pygments_lexer": "ipython3",
   "version": "3.8.8"
  }
 },
 "nbformat": 4,
 "nbformat_minor": 5
}
