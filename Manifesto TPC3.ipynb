{
 "cells": [
  {
   "cell_type": "markdown",
   "id": "5038fca1",
   "metadata": {},
   "source": [
    "## Manifesto TPC3\n"
   ]
  },
  {
   "cell_type": "markdown",
   "id": "21667d00",
   "metadata": {},
   "source": [
    "__KEY NAME__: TPC3"
   ]
  },
  {
   "cell_type": "markdown",
   "id": "a8856c6a",
   "metadata": {},
   "source": [
    "__TITLE__: Função que ordena os valores dados pelo utilizador"
   ]
  },
  {
   "cell_type": "markdown",
   "id": "c1ae18c1",
   "metadata": {},
   "source": [
    "__SUBTITLE__: Manifesto inserido nos trabalhos práticos da unidade curricular de Algoritmos e Técnicas de Programação do curso de MIEBIOM"
   ]
  },
  {
   "cell_type": "markdown",
   "id": "9fb3ab0e",
   "metadata": {},
   "source": [
    "__BEGIN DATE__: 2021-10-20"
   ]
  },
  {
   "cell_type": "markdown",
   "id": "1579b23d",
   "metadata": {},
   "source": [
    "__END DATE__: 2021-10-24"
   ]
  },
  {
   "cell_type": "markdown",
   "id": "304088b2",
   "metadata": {},
   "source": [
    "__WorkTeam__: Maria Clara Lopes Xavier Guimarães"
   ]
  },
  {
   "cell_type": "markdown",
   "id": "e36ed049",
   "metadata": {},
   "source": [
    "__ABSTRACT__:\n",
    "\n",
    "O programa criado permite que o utilizador ordene uma certa quantidade de números indicada pelo mesmo.\n",
    "\n",
    "O trabalho realizado permite a aplicação do que foi lecionado na aula teórica através da criação de uma função que imita a função sort().\n",
    "\n",
    "O trabalho consiste na criação de uma lista com o tamanho indicado pelo utilizador em que são inseridos os números que se pretendem ordenar.\n",
    "\n",
    "A utilização da função bublle(l) permite a comparação de dois números existindo a troca deles se o primeiro for maior do que o segundo. Isto acontece ao longo da lista. Se o número de trocas no final da lista ser percorrida for diferente de 0, o programa volta a correr a lista. Isto acontece até que o número de trocas seja 0. \n",
    "\n",
     "Apenas não consegui fazer com que o programa parasse de correr. Quando o tentava fazer a função não me corria até ao ponto desejado, que é correr a lista várias vezes. \n",
    "\n",
    "Fica neste trabalho a aplicação do que foi lecionado até este momento nesta unidade curricular."
   ]
  }
 ],
 "metadata": {
  "kernelspec": {
   "display_name": "Python 3",
   "language": "python",
   "name": "python3"
  },
  "language_info": {
   "codemirror_mode": {
    "name": "ipython",
    "version": 3
   },
   "file_extension": ".py",
   "mimetype": "text/x-python",
   "name": "python",
   "nbconvert_exporter": "python",
   "pygments_lexer": "ipython3",
   "version": "3.8.8"
  }
 },
 "nbformat": 4,
 "nbformat_minor": 5
}
