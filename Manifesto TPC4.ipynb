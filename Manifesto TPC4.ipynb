{
 "cells": [
  {
   "cell_type": "markdown",
   "id": "e5182fc0",
   "metadata": {},
   "source": [
    "## Manifesto TPC4"
   ]
  },
  {
   "cell_type": "markdown",
   "id": "757b4472",
   "metadata": {},
   "source": [
    "__KEY NAME__: TPC4"
   ]
  },
  {
   "cell_type": "markdown",
   "id": "f5a0ffff",
   "metadata": {},
   "source": [
    "__TITLE__: Programa para trabalhar com funções"
   ]
  },
  {
   "cell_type": "markdown",
   "id": "7913956c",
   "metadata": {},
   "source": [
    "__SUBTITLE__: Manifesto inserido nos trabalhos práticos da unidade curricular de Algoritmos e Técnicas de Programação do curso de MIEBIOM"
   ]
  },
  {
   "cell_type": "markdown",
   "id": "22d1190a",
   "metadata": {},
   "source": [
    "__BEGIN DATE__: 2021-10-26"
   ]
  },
  {
   "cell_type": "markdown",
   "id": "c8cfee2b",
   "metadata": {},
   "source": [
    "__END DATE__: 2021-10-24"
   ]
  },
  {
   "cell_type": "markdown",
   "id": "1ed0411b",
   "metadata": {},
   "source": [
    "__WorkTeam__: Maria Clara Lopes Xavier Guimarães"
   ]
  },
  {
   "cell_type": "markdown",
   "id": "c50e7e69",
   "metadata": {},
   "source": [
    "__ABSTRACT__:\n",
    "\n",
    "O programa criado permite que o utilizador realize uma série de operações com frações.\n",
    "\n",
    "O trabalho realizado permite a aplicação do que foi lecionado na aula teórica através do uso das funções realizadas na aula e da criação de novas para uma aplicação a outras operações algébricas.\n",
    "\n",
    "O trabalho consiste na criação de funções que permitem a realização de operações algébricas como a soma, a subtração, a multiplicação e a divisão e ainda a soma de uma lista com um número de frações dado pelo utilizador.\n",
    "\n",
    "A utilização da função gerarListaDeNFracoes() permite a criação de uma lista com um determinado número de elementos. Esta função é posteriormente utilizada para a realização de operações como a soma de todos os elementos da lista e para se descobrir o máximo da lista. Para a realização da soma de todos os elementos da lista é necessário que haja o varrimento da lista através do ciclo for somando inicialmente a primeira fração da lista à fração 0/1 representada pelo tuplo (0,1). De seguida há a soma do resto das frações à soma realizada anteriormente.\n",
    "\n",
    "Fica neste trabalho a aplicação do que foi lecionado até este momento nesta unidade curricular."
   ]
  }
 ],
 "metadata": {
  "kernelspec": {
   "display_name": "Python 3",
   "language": "python",
   "name": "python3"
  },
  "language_info": {
   "codemirror_mode": {
    "name": "ipython",
    "version": 3
   },
   "file_extension": ".py",
   "mimetype": "text/x-python",
   "name": "python",
   "nbconvert_exporter": "python",
   "pygments_lexer": "ipython3",
   "version": "3.8.8"
  }
 },
 "nbformat": 4,
 "nbformat_minor": 5
}
